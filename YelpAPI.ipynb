{
 "cells": [
  {
   "cell_type": "code",
   "execution_count": 1,
   "id": "25a6d972-3016-471b-b53c-b94233e8aeb2",
   "metadata": {},
   "outputs": [
    {
     "data": {
      "text/plain": [
       "dict_keys(['Client-ID', 'API Key'])"
      ]
     },
     "execution_count": 1,
     "metadata": {},
     "output_type": "execute_result"
    }
   ],
   "source": [
    "import json\n",
    "with open('/Users/corte/.secret/yelp_api.json') as f:\n",
    "    login = json.load(f)\n",
    "login.keys()"
   ]
  },
  {
   "cell_type": "code",
   "execution_count": 2,
   "id": "fe270f82-df49-4e85-96e3-959653fd39d8",
   "metadata": {},
   "outputs": [
    {
     "data": {
      "text/plain": [
       "<yelpapi.yelpapi.YelpAPI at 0x1dc40a11390>"
      ]
     },
     "execution_count": 2,
     "metadata": {},
     "output_type": "execute_result"
    }
   ],
   "source": [
    "# import the YelpAPI Class\n",
    "from yelpapi import YelpAPI\n",
    "# Create an instance with your key\n",
    "yelp_api = YelpAPI(login['API Key'], timeout_s=5.0)\n",
    "yelp_api"
   ]
  },
  {
   "cell_type": "code",
   "execution_count": 3,
   "id": "b656ad12-2d15-41e2-8beb-0eb58140b3b7",
   "metadata": {},
   "outputs": [
    {
     "name": "stdout",
     "output_type": "stream",
     "text": [
      "Help on method search_query in module yelpapi.yelpapi:\n",
      "\n",
      "search_query(**kwargs) method of yelpapi.yelpapi.YelpAPI instance\n",
      "    Query the Yelp Search API.\n",
      "    \n",
      "    documentation: https://www.yelp.com/developers/documentation/v3/business_search\n",
      "    \n",
      "    required parameters:\n",
      "        * one of either:\n",
      "            * location - text specifying a location to search for\n",
      "            * latitude and longitude\n",
      "\n"
     ]
    }
   ],
   "source": [
    "help(yelp_api.search_query)"
   ]
  },
  {
   "cell_type": "code",
   "execution_count": 4,
   "id": "f2f22968-52fd-4d73-923f-287690b7f578",
   "metadata": {},
   "outputs": [],
   "source": [
    "# Standard Imports\n",
    "import numpy as np\n",
    "import pandas as pd\n",
    "import matplotlib.pyplot as plt\n",
    "import seaborn as sns\n",
    "# Additional Imports\n",
    "import os, json, math, time\n",
    "from yelpapi import YelpAPI\n",
    "from tqdm.notebook import tqdm_notebook"
   ]
  },
  {
   "cell_type": "code",
   "execution_count": 5,
   "id": "fe8eda3b-280e-4150-bef4-c92d8ad14bf1",
   "metadata": {},
   "outputs": [],
   "source": [
    "# set our API call parameters \n",
    "LOCATION = 'Seattle, WA'\n",
    "TERM = 'Vegetarian'"
   ]
  },
  {
   "cell_type": "code",
   "execution_count": 6,
   "id": "ee3bb5d3-b4d7-4b93-924d-65c95dc63ad0",
   "metadata": {},
   "outputs": [
    {
     "data": {
      "text/plain": [
       "'Data/final_results_seattle_vegetarian.json'"
      ]
     },
     "execution_count": 6,
     "metadata": {},
     "output_type": "execute_result"
    }
   ],
   "source": [
    "# Specifying JSON_FILE filename (can include a folder)\n",
    "# include the search terms in the filename\n",
    "JSON_FILE = \"Data/final_results_seattle_vegetarian.json\"\n",
    "JSON_FILE"
   ]
  },
  {
   "cell_type": "code",
   "execution_count": 7,
   "id": "e77da745-60b9-4081-b856-75cc9448f3b9",
   "metadata": {},
   "outputs": [
    {
     "name": "stdout",
     "output_type": "stream",
     "text": [
      "[i] Data/final_results_seattle_vegetarian.json not found. Saving empty list to file.\n"
     ]
    }
   ],
   "source": [
    "# Check if JSON_FILE exists\n",
    "file_exists = os.path.isfile(JSON_FILE)\n",
    "## If it does not exist: \n",
    "if file_exists == False:\n",
    "    \n",
    "    ## CREATE ANY NEEDED FOLDERS\n",
    "    # Get the Folder Name only\n",
    "    folder = os.path.dirname(JSON_FILE)\n",
    "    ## If JSON_FILE included a folder:\n",
    "    if len(folder)>0:\n",
    "        # create the folder\n",
    "        os.makedirs(folder,exist_ok=True)\n",
    "        \n",
    "        \n",
    "    ## INFORM USER AND SAVE EMPTY LIST\n",
    "    print(f'[i] {JSON_FILE} not found. Saving empty list to file.')\n",
    "    \n",
    "    \n",
    "    # save an empty list\n",
    "    with open(JSON_FILE,'w') as f:\n",
    "        json.dump([],f)  \n",
    "# If it exists, inform user\n",
    "else:\n",
    "    print(f\"[i] {JSON_FILE} already exists.\")"
   ]
  },
  {
   "cell_type": "code",
   "execution_count": 8,
   "id": "bf2eba67-d005-4ca5-bf03-608c13a2d088",
   "metadata": {},
   "outputs": [
    {
     "name": "stdout",
     "output_type": "stream",
     "text": [
      "- 0 previous results found.\n"
     ]
    }
   ],
   "source": [
    "# Load previous results and use len of results for offset\n",
    "with open(JSON_FILE,'r') as f:\n",
    "    previous_results = json.load(f)\n",
    "    \n",
    "## set offset based on previous results\n",
    "n_results = len(previous_results)\n",
    "print(f'- {n_results} previous results found.')"
   ]
  },
  {
   "cell_type": "code",
   "execution_count": 9,
   "id": "5e4b9bf2-0f12-426d-86c2-f7bcda89a6e5",
   "metadata": {},
   "outputs": [
    {
     "data": {
      "text/plain": [
       "dict_keys(['businesses', 'total', 'region'])"
      ]
     },
     "execution_count": 9,
     "metadata": {},
     "output_type": "execute_result"
    }
   ],
   "source": [
    "# use our yelp_api variable's search_query method to perform our API call\n",
    "results = yelp_api.search_query(location=LOCATION,\n",
    "                                term=TERM,\n",
    "                               offset=n_results)\n",
    "results.keys()"
   ]
  },
  {
   "cell_type": "code",
   "execution_count": 10,
   "id": "74e8f7f6-40ef-478e-9c85-a8d1f23f7e93",
   "metadata": {},
   "outputs": [
    {
     "data": {
      "text/plain": [
       "4400"
      ]
     },
     "execution_count": 10,
     "metadata": {},
     "output_type": "execute_result"
    }
   ],
   "source": [
    "# How many results total?\n",
    "total_results = results['total']\n",
    "total_results"
   ]
  },
  {
   "cell_type": "code",
   "execution_count": 11,
   "id": "490f87d4-f12a-43d5-815d-0dfd29ce8b3f",
   "metadata": {},
   "outputs": [
    {
     "data": {
      "text/plain": [
       "20"
      ]
     },
     "execution_count": 11,
     "metadata": {},
     "output_type": "execute_result"
    }
   ],
   "source": [
    "# How many did we get the details for?\n",
    "results_per_page = len(results['businesses'])\n",
    "results_per_page"
   ]
  },
  {
   "cell_type": "code",
   "execution_count": 12,
   "id": "2581da7b-c971-4eaa-ad56-79ad41139a94",
   "metadata": {},
   "outputs": [
    {
     "data": {
      "text/plain": [
       "220"
      ]
     },
     "execution_count": 12,
     "metadata": {},
     "output_type": "execute_result"
    }
   ],
   "source": [
    "# Import additional packages for controlling our loop\n",
    "import time, math\n",
    "# Use math.ceil to round up for the total number of pages of results.\n",
    "n_pages = math.ceil((results['total']-n_results)/ results_per_page)\n",
    "n_pages"
   ]
  },
  {
   "cell_type": "code",
   "execution_count": 13,
   "id": "c7c3a4b3-1ae8-41e6-b0ff-afcaa5078f98",
   "metadata": {},
   "outputs": [],
   "source": [
    "# join new results with old list with extend and save to file\n",
    "previous_results.extend(results['businesses'])  \n",
    "with open(JSON_FILE,'w') as f:\n",
    "     json.dump(previous_results,f)"
   ]
  },
  {
   "cell_type": "code",
   "execution_count": 14,
   "id": "c39186c8-539a-4fe9-b6f9-0e5ae5b6cada",
   "metadata": {},
   "outputs": [
    {
     "data": {
      "application/vnd.jupyter.widget-view+json": {
       "model_id": "73bf2ce860d34ec4bb28514cc64e187c",
       "version_major": 2,
       "version_minor": 0
      },
      "text/plain": [
       "  0%|          | 0/220 [00:00<?, ?it/s]"
      ]
     },
     "metadata": {},
     "output_type": "display_data"
    }
   ],
   "source": [
    "from tqdm.notebook import tqdm_notebook\n",
    "import time\n",
    "for i in tqdm_notebook(range(n_pages)):\n",
    "    # adds 200 ms pause\n",
    "    time.sleep(.2) "
   ]
  },
  {
   "cell_type": "code",
   "execution_count": 16,
   "id": "4e39de2c-b47d-4d3a-8637-8f3f0ed5c1ef",
   "metadata": {},
   "outputs": [],
   "source": [
    "def create_json_file(JSON_FILE,  delete_if_exists=False):\n",
    "    \n",
    "    ## Check if JSON_FILE exists\n",
    "    file_exists = os.path.isfile(JSON_FILE)\n",
    "    \n",
    "    ## If it DOES exist:\n",
    "    if file_exists == True:\n",
    "        \n",
    "        ## Check if user wants to delete if exists\n",
    "        if delete_if_exists==True:\n",
    "            \n",
    "            print(f\"[!] {JSON_FILE} already exists. Deleting previous file...\")\n",
    "            ## delete file and confirm it no longer exits.\n",
    "            os.remove(JSON_FILE)\n",
    "            ## Recursive call to function after old file deleted\n",
    "            create_json_file(JSON_FILE,delete_if_exists=False)\n",
    "        else:\n",
    "            print(f\"[i] {JSON_FILE} already exists.\")            \n",
    "            \n",
    "            \n",
    "    ## If it does NOT exist:\n",
    "    else:\n",
    "        \n",
    "        ## INFORM USER AND SAVE EMPTY LIST\n",
    "        print(f\"[i] {JSON_FILE} not found. Saving empty list to new file.\")\n",
    "        \n",
    "        ## CREATE ANY NEEDED FOLDERS\n",
    "        # Get the Folder Name only\n",
    "        folder = os.path.dirname(JSON_FILE)\n",
    "        \n",
    "        ## If JSON_FILE included a folder:\n",
    "        if len(folder)>0:\n",
    "            # create the folder\n",
    "            os.makedirs(folder,exist_ok=True)\n",
    "        ## Save empty list to start the json file\n",
    "        with open(JSON_FILE,'w') as f:\n",
    "            json.dump([],f)  "
   ]
  },
  {
   "cell_type": "code",
   "execution_count": 17,
   "id": "29011a3b-ae21-43f0-afd3-c512f076a4b8",
   "metadata": {},
   "outputs": [
    {
     "name": "stdout",
     "output_type": "stream",
     "text": [
      "[!] Data/final_results_seattle_vegetarian.json already exists. Deleting previous file...\n",
      "[i] Data/final_results_seattle_vegetarian.json not found. Saving empty list to new file.\n",
      "- 0 previous results found.\n"
     ]
    },
    {
     "data": {
      "text/plain": [
       "220"
      ]
     },
     "execution_count": 17,
     "metadata": {},
     "output_type": "execute_result"
    }
   ],
   "source": [
    "# Create a new empty json file (exist the previous if it exists)\n",
    "create_json_file(JSON_FILE, delete_if_exists=True)\n",
    "## Load previous results and use len of results for offset\n",
    "with open(JSON_FILE,'r') as f:\n",
    "    previous_results = json.load(f)\n",
    "    \n",
    "## set offset based on previous results\n",
    "n_results = len(previous_results)\n",
    "print(f'- {n_results} previous results found.')\n",
    "# use our yelp_api variable's search_query method to perform our API call\n",
    "results = yelp_api.search_query(location=LOCATION,\n",
    "                                term=TERM,\n",
    "                               offset=n_results)\n",
    "## How many results total?\n",
    "total_results = results['total']\n",
    "## How many did we get the details for?\n",
    "results_per_page = len(results['businesses'])\n",
    "# Use math.ceil to round up for the total number of pages of results.\n",
    "n_pages = math.ceil((results['total']-n_results)/ results_per_page)\n",
    "n_pages\n"
   ]
  },
  {
   "cell_type": "code",
   "execution_count": 18,
   "id": "cb6fe76e-6e8a-4471-945b-6a9acb7c13dd",
   "metadata": {},
   "outputs": [
    {
     "data": {
      "application/vnd.jupyter.widget-view+json": {
       "model_id": "12beb98285084168a40305c323d90117",
       "version_major": 2,
       "version_minor": 0
      },
      "text/plain": [
       "  0%|          | 0/220 [00:00<?, ?it/s]"
      ]
     },
     "metadata": {},
     "output_type": "display_data"
    },
    {
     "name": "stdout",
     "output_type": "stream",
     "text": [
      "Exceeded 1000 api calls. Stopping loop.\n"
     ]
    }
   ],
   "source": [
    "for i in tqdm_notebook( range(1,n_pages+1)):\n",
    "    \n",
    "    ## Read in results in progress file and check the length\n",
    "    with open(JSON_FILE, 'r') as f:\n",
    "        previous_results = json.load(f)\n",
    "    ## save number of results for to use as offset\n",
    "    n_results = len(previous_results)\n",
    "    \n",
    "    if (n_results + results_per_page) > 1000:\n",
    "        print('Exceeded 1000 api calls. Stopping loop.')\n",
    "        break\n",
    "    \n",
    "    ## use n_results as the OFFSET \n",
    "    results = yelp_api.search_query(location=LOCATION,\n",
    "                                    term=TERM, \n",
    "                                    offset=n_results)\n",
    "    \n",
    "    \n",
    "    \n",
    "    ## append new results and save to file\n",
    "    previous_results.extend(results['businesses'])\n",
    "    \n",
    "    # display(previous_results)\n",
    "    with open(JSON_FILE,'w') as f:\n",
    "        json.dump(previous_results,f)\n",
    "    \n",
    "    time.sleep(.2)\n"
   ]
  },
  {
   "cell_type": "code",
   "execution_count": 20,
   "id": "8be198d7-faf7-4234-bcbf-5fc48f9c866c",
   "metadata": {},
   "outputs": [
    {
     "data": {
      "text/html": [
       "<div>\n",
       "<style scoped>\n",
       "    .dataframe tbody tr th:only-of-type {\n",
       "        vertical-align: middle;\n",
       "    }\n",
       "\n",
       "    .dataframe tbody tr th {\n",
       "        vertical-align: top;\n",
       "    }\n",
       "\n",
       "    .dataframe thead th {\n",
       "        text-align: right;\n",
       "    }\n",
       "</style>\n",
       "<table border=\"1\" class=\"dataframe\">\n",
       "  <thead>\n",
       "    <tr style=\"text-align: right;\">\n",
       "      <th></th>\n",
       "      <th>id</th>\n",
       "      <th>alias</th>\n",
       "      <th>name</th>\n",
       "      <th>image_url</th>\n",
       "      <th>is_closed</th>\n",
       "      <th>url</th>\n",
       "      <th>review_count</th>\n",
       "      <th>categories</th>\n",
       "      <th>rating</th>\n",
       "      <th>coordinates</th>\n",
       "      <th>transactions</th>\n",
       "      <th>price</th>\n",
       "      <th>location</th>\n",
       "      <th>phone</th>\n",
       "      <th>display_phone</th>\n",
       "      <th>distance</th>\n",
       "    </tr>\n",
       "  </thead>\n",
       "  <tbody>\n",
       "    <tr>\n",
       "      <th>0</th>\n",
       "      <td>djjEdAZkY4eyzI3_8TBLVA</td>\n",
       "      <td>plum-bistro-seattle-2</td>\n",
       "      <td>Plum Bistro</td>\n",
       "      <td>https://s3-media3.fl.yelpcdn.com/bphoto/yMrYwh...</td>\n",
       "      <td>False</td>\n",
       "      <td>https://www.yelp.com/biz/plum-bistro-seattle-2...</td>\n",
       "      <td>1880</td>\n",
       "      <td>[{'alias': 'vegan', 'title': 'Vegan'}]</td>\n",
       "      <td>4.0</td>\n",
       "      <td>{'latitude': 47.6137675, 'longitude': -122.317...</td>\n",
       "      <td>[pickup, delivery]</td>\n",
       "      <td>$$</td>\n",
       "      <td>{'address1': '1429 12th Ave', 'address2': '', ...</td>\n",
       "      <td>+12068385333</td>\n",
       "      <td>(206) 838-5333</td>\n",
       "      <td>1888.191530</td>\n",
       "    </tr>\n",
       "    <tr>\n",
       "      <th>1</th>\n",
       "      <td>mOybprI4rEcRQUxBqAhupw</td>\n",
       "      <td>harvest-beat-seattle</td>\n",
       "      <td>Harvest Beat</td>\n",
       "      <td>https://s3-media2.fl.yelpcdn.com/bphoto/QPuRj9...</td>\n",
       "      <td>False</td>\n",
       "      <td>https://www.yelp.com/biz/harvest-beat-seattle?...</td>\n",
       "      <td>255</td>\n",
       "      <td>[{'alias': 'vegetarian', 'title': 'Vegetarian'...</td>\n",
       "      <td>4.5</td>\n",
       "      <td>{'latitude': 47.66115, 'longitude': -122.33678}</td>\n",
       "      <td>[]</td>\n",
       "      <td>$$$</td>\n",
       "      <td>{'address1': '1711 N 45th St', 'address2': '',...</td>\n",
       "      <td>+12065471348</td>\n",
       "      <td>(206) 547-1348</td>\n",
       "      <td>3976.167517</td>\n",
       "    </tr>\n",
       "    <tr>\n",
       "      <th>2</th>\n",
       "      <td>0jZIOA_9H3YOsbiyoyRWrA</td>\n",
       "      <td>seattle-lotus-vegetarian-restaurant-seattle</td>\n",
       "      <td>Seattle Lotus Vegetarian Restaurant</td>\n",
       "      <td>https://s3-media1.fl.yelpcdn.com/bphoto/GWvM2a...</td>\n",
       "      <td>False</td>\n",
       "      <td>https://www.yelp.com/biz/seattle-lotus-vegetar...</td>\n",
       "      <td>194</td>\n",
       "      <td>[{'alias': 'vegetarian', 'title': 'Vegetarian'...</td>\n",
       "      <td>4.5</td>\n",
       "      <td>{'latitude': 47.5088066528403, 'longitude': -1...</td>\n",
       "      <td>[pickup, delivery]</td>\n",
       "      <td>$$</td>\n",
       "      <td>{'address1': '10439 16th Ave SW', 'address2': ...</td>\n",
       "      <td>+12064666345</td>\n",
       "      <td>(206) 466-6345</td>\n",
       "      <td>13054.220036</td>\n",
       "    </tr>\n",
       "    <tr>\n",
       "      <th>3</th>\n",
       "      <td>kh_RJCN-Xn7sP5tenN2WsA</td>\n",
       "      <td>ba-bar-green-seattle</td>\n",
       "      <td>Ba Bar Green</td>\n",
       "      <td>https://s3-media2.fl.yelpcdn.com/bphoto/8h7jos...</td>\n",
       "      <td>False</td>\n",
       "      <td>https://www.yelp.com/biz/ba-bar-green-seattle?...</td>\n",
       "      <td>31</td>\n",
       "      <td>[{'alias': 'vietnamese', 'title': 'Vietnamese'...</td>\n",
       "      <td>4.5</td>\n",
       "      <td>{'latitude': 47.62343, 'longitude': -122.33684}</td>\n",
       "      <td>[pickup, delivery]</td>\n",
       "      <td>NaN</td>\n",
       "      <td>{'address1': '500 Terry Ave N', 'address2': ''...</td>\n",
       "      <td>+12065822131</td>\n",
       "      <td>(206) 582-2131</td>\n",
       "      <td>251.250077</td>\n",
       "    </tr>\n",
       "    <tr>\n",
       "      <th>4</th>\n",
       "      <td>9nJlVsm9GEz6DFhK5ckaYA</td>\n",
       "      <td>cafe-flora-seattle</td>\n",
       "      <td>Cafe Flora</td>\n",
       "      <td>https://s3-media1.fl.yelpcdn.com/bphoto/M33I7s...</td>\n",
       "      <td>False</td>\n",
       "      <td>https://www.yelp.com/biz/cafe-flora-seattle?ad...</td>\n",
       "      <td>1558</td>\n",
       "      <td>[{'alias': 'vegetarian', 'title': 'Vegetarian'...</td>\n",
       "      <td>4.0</td>\n",
       "      <td>{'latitude': 47.62397, 'longitude': -122.29521}</td>\n",
       "      <td>[delivery]</td>\n",
       "      <td>$$</td>\n",
       "      <td>{'address1': '2901 E Madison St', 'address2': ...</td>\n",
       "      <td>+12063259100</td>\n",
       "      <td>(206) 325-9100</td>\n",
       "      <td>3033.471253</td>\n",
       "    </tr>\n",
       "  </tbody>\n",
       "</table>\n",
       "</div>"
      ],
      "text/plain": [
       "                       id                                        alias  \\\n",
       "0  djjEdAZkY4eyzI3_8TBLVA                        plum-bistro-seattle-2   \n",
       "1  mOybprI4rEcRQUxBqAhupw                         harvest-beat-seattle   \n",
       "2  0jZIOA_9H3YOsbiyoyRWrA  seattle-lotus-vegetarian-restaurant-seattle   \n",
       "3  kh_RJCN-Xn7sP5tenN2WsA                         ba-bar-green-seattle   \n",
       "4  9nJlVsm9GEz6DFhK5ckaYA                           cafe-flora-seattle   \n",
       "\n",
       "                                  name  \\\n",
       "0                          Plum Bistro   \n",
       "1                         Harvest Beat   \n",
       "2  Seattle Lotus Vegetarian Restaurant   \n",
       "3                         Ba Bar Green   \n",
       "4                           Cafe Flora   \n",
       "\n",
       "                                           image_url  is_closed  \\\n",
       "0  https://s3-media3.fl.yelpcdn.com/bphoto/yMrYwh...      False   \n",
       "1  https://s3-media2.fl.yelpcdn.com/bphoto/QPuRj9...      False   \n",
       "2  https://s3-media1.fl.yelpcdn.com/bphoto/GWvM2a...      False   \n",
       "3  https://s3-media2.fl.yelpcdn.com/bphoto/8h7jos...      False   \n",
       "4  https://s3-media1.fl.yelpcdn.com/bphoto/M33I7s...      False   \n",
       "\n",
       "                                                 url  review_count  \\\n",
       "0  https://www.yelp.com/biz/plum-bistro-seattle-2...          1880   \n",
       "1  https://www.yelp.com/biz/harvest-beat-seattle?...           255   \n",
       "2  https://www.yelp.com/biz/seattle-lotus-vegetar...           194   \n",
       "3  https://www.yelp.com/biz/ba-bar-green-seattle?...            31   \n",
       "4  https://www.yelp.com/biz/cafe-flora-seattle?ad...          1558   \n",
       "\n",
       "                                          categories  rating  \\\n",
       "0             [{'alias': 'vegan', 'title': 'Vegan'}]     4.0   \n",
       "1  [{'alias': 'vegetarian', 'title': 'Vegetarian'...     4.5   \n",
       "2  [{'alias': 'vegetarian', 'title': 'Vegetarian'...     4.5   \n",
       "3  [{'alias': 'vietnamese', 'title': 'Vietnamese'...     4.5   \n",
       "4  [{'alias': 'vegetarian', 'title': 'Vegetarian'...     4.0   \n",
       "\n",
       "                                         coordinates        transactions  \\\n",
       "0  {'latitude': 47.6137675, 'longitude': -122.317...  [pickup, delivery]   \n",
       "1    {'latitude': 47.66115, 'longitude': -122.33678}                  []   \n",
       "2  {'latitude': 47.5088066528403, 'longitude': -1...  [pickup, delivery]   \n",
       "3    {'latitude': 47.62343, 'longitude': -122.33684}  [pickup, delivery]   \n",
       "4    {'latitude': 47.62397, 'longitude': -122.29521}          [delivery]   \n",
       "\n",
       "  price                                           location         phone  \\\n",
       "0    $$  {'address1': '1429 12th Ave', 'address2': '', ...  +12068385333   \n",
       "1   $$$  {'address1': '1711 N 45th St', 'address2': '',...  +12065471348   \n",
       "2    $$  {'address1': '10439 16th Ave SW', 'address2': ...  +12064666345   \n",
       "3   NaN  {'address1': '500 Terry Ave N', 'address2': ''...  +12065822131   \n",
       "4    $$  {'address1': '2901 E Madison St', 'address2': ...  +12063259100   \n",
       "\n",
       "    display_phone      distance  \n",
       "0  (206) 838-5333   1888.191530  \n",
       "1  (206) 547-1348   3976.167517  \n",
       "2  (206) 466-6345  13054.220036  \n",
       "3  (206) 582-2131    251.250077  \n",
       "4  (206) 325-9100   3033.471253  "
      ]
     },
     "metadata": {},
     "output_type": "display_data"
    },
    {
     "data": {
      "text/html": [
       "<div>\n",
       "<style scoped>\n",
       "    .dataframe tbody tr th:only-of-type {\n",
       "        vertical-align: middle;\n",
       "    }\n",
       "\n",
       "    .dataframe tbody tr th {\n",
       "        vertical-align: top;\n",
       "    }\n",
       "\n",
       "    .dataframe thead th {\n",
       "        text-align: right;\n",
       "    }\n",
       "</style>\n",
       "<table border=\"1\" class=\"dataframe\">\n",
       "  <thead>\n",
       "    <tr style=\"text-align: right;\">\n",
       "      <th></th>\n",
       "      <th>id</th>\n",
       "      <th>alias</th>\n",
       "      <th>name</th>\n",
       "      <th>image_url</th>\n",
       "      <th>is_closed</th>\n",
       "      <th>url</th>\n",
       "      <th>review_count</th>\n",
       "      <th>categories</th>\n",
       "      <th>rating</th>\n",
       "      <th>coordinates</th>\n",
       "      <th>transactions</th>\n",
       "      <th>price</th>\n",
       "      <th>location</th>\n",
       "      <th>phone</th>\n",
       "      <th>display_phone</th>\n",
       "      <th>distance</th>\n",
       "    </tr>\n",
       "  </thead>\n",
       "  <tbody>\n",
       "    <tr>\n",
       "      <th>995</th>\n",
       "      <td>_7i3cfZt8A0tBwyTsPpH4w</td>\n",
       "      <td>fiddlers-inn-pub-and-pizza-seattle</td>\n",
       "      <td>Fiddler's Inn Pub &amp; Pizza</td>\n",
       "      <td>https://s3-media3.fl.yelpcdn.com/bphoto/Ee3tn4...</td>\n",
       "      <td>False</td>\n",
       "      <td>https://www.yelp.com/biz/fiddlers-inn-pub-and-...</td>\n",
       "      <td>161</td>\n",
       "      <td>[{'alias': 'pubs', 'title': 'Pubs'}, {'alias':...</td>\n",
       "      <td>4.0</td>\n",
       "      <td>{'latitude': 47.6963958740234, 'longitude': -1...</td>\n",
       "      <td>[delivery]</td>\n",
       "      <td>$$</td>\n",
       "      <td>{'address1': '9219 35th Ave NE', 'address2': '...</td>\n",
       "      <td>+12065250752</td>\n",
       "      <td>(206) 525-0752</td>\n",
       "      <td>8567.291262</td>\n",
       "    </tr>\n",
       "    <tr>\n",
       "      <th>996</th>\n",
       "      <td>yHfENRcxUcq1UWtZrxMqtA</td>\n",
       "      <td>nacho-mama-s-fry-bread-cafe-seattle</td>\n",
       "      <td>Nacho Mama’s Fry Bread Cafe’</td>\n",
       "      <td>https://s3-media1.fl.yelpcdn.com/bphoto/9ICQSW...</td>\n",
       "      <td>False</td>\n",
       "      <td>https://www.yelp.com/biz/nacho-mama-s-fry-brea...</td>\n",
       "      <td>17</td>\n",
       "      <td>[{'alias': 'breakfast_brunch', 'title': 'Break...</td>\n",
       "      <td>5.0</td>\n",
       "      <td>{'latitude': 47.51866236481751, 'longitude': -...</td>\n",
       "      <td>[delivery, pickup]</td>\n",
       "      <td>NaN</td>\n",
       "      <td>{'address1': '9418 Delridge Way S', 'address2'...</td>\n",
       "      <td>+12533291212</td>\n",
       "      <td>(253) 329-1212</td>\n",
       "      <td>11970.301412</td>\n",
       "    </tr>\n",
       "    <tr>\n",
       "      <th>997</th>\n",
       "      <td>Typ4u1aCYFBXaki_ylNTuQ</td>\n",
       "      <td>s-t-hooligans-seattle</td>\n",
       "      <td>S/T Hooligan's</td>\n",
       "      <td>https://s3-media2.fl.yelpcdn.com/bphoto/vfFWEy...</td>\n",
       "      <td>False</td>\n",
       "      <td>https://www.yelp.com/biz/s-t-hooligans-seattle...</td>\n",
       "      <td>431</td>\n",
       "      <td>[{'alias': 'cajun', 'title': 'Cajun/Creole'}, ...</td>\n",
       "      <td>4.5</td>\n",
       "      <td>{'latitude': 47.66023, 'longitude': -122.36568}</td>\n",
       "      <td>[delivery, pickup]</td>\n",
       "      <td>$$</td>\n",
       "      <td>{'address1': '4354 Leary Way NW', 'address2': ...</td>\n",
       "      <td>+12066594754</td>\n",
       "      <td>(206) 659-4754</td>\n",
       "      <td>4482.383222</td>\n",
       "    </tr>\n",
       "    <tr>\n",
       "      <th>998</th>\n",
       "      <td>uakk24V_xpD-INF6kxc4rg</td>\n",
       "      <td>menya-musashi-tsukemen-and-ramen-seattle-6</td>\n",
       "      <td>Menya Musashi Tsukemen &amp; Ramen</td>\n",
       "      <td>https://s3-media1.fl.yelpcdn.com/bphoto/VFS-6C...</td>\n",
       "      <td>False</td>\n",
       "      <td>https://www.yelp.com/biz/menya-musashi-tsukeme...</td>\n",
       "      <td>570</td>\n",
       "      <td>[{'alias': 'ramen', 'title': 'Ramen'}, {'alias...</td>\n",
       "      <td>4.0</td>\n",
       "      <td>{'latitude': 47.61443, 'longitude': -122.32423}</td>\n",
       "      <td>[pickup, delivery]</td>\n",
       "      <td>$$</td>\n",
       "      <td>{'address1': '1510 Belmont Ave', 'address2': '...</td>\n",
       "      <td>+12062574289</td>\n",
       "      <td>(206) 257-4289</td>\n",
       "      <td>1498.765728</td>\n",
       "    </tr>\n",
       "    <tr>\n",
       "      <th>999</th>\n",
       "      <td>eoXUJKoAacpQ7F57xu8rNw</td>\n",
       "      <td>flavor-of-india-issaquah</td>\n",
       "      <td>Flavor of India</td>\n",
       "      <td>https://s3-media2.fl.yelpcdn.com/bphoto/bjHzYz...</td>\n",
       "      <td>False</td>\n",
       "      <td>https://www.yelp.com/biz/flavor-of-india-issaq...</td>\n",
       "      <td>25</td>\n",
       "      <td>[{'alias': 'indpak', 'title': 'Indian'}, {'ali...</td>\n",
       "      <td>4.0</td>\n",
       "      <td>{'latitude': 47.5435, 'longitude': -122.01664}</td>\n",
       "      <td>[delivery, pickup]</td>\n",
       "      <td>NaN</td>\n",
       "      <td>{'address1': '984 NE Park Dr', 'address2': '',...</td>\n",
       "      <td>+14253694334</td>\n",
       "      <td>(425) 369-4334</td>\n",
       "      <td>25588.961885</td>\n",
       "    </tr>\n",
       "  </tbody>\n",
       "</table>\n",
       "</div>"
      ],
      "text/plain": [
       "                         id                                       alias  \\\n",
       "995  _7i3cfZt8A0tBwyTsPpH4w          fiddlers-inn-pub-and-pizza-seattle   \n",
       "996  yHfENRcxUcq1UWtZrxMqtA         nacho-mama-s-fry-bread-cafe-seattle   \n",
       "997  Typ4u1aCYFBXaki_ylNTuQ                       s-t-hooligans-seattle   \n",
       "998  uakk24V_xpD-INF6kxc4rg  menya-musashi-tsukemen-and-ramen-seattle-6   \n",
       "999  eoXUJKoAacpQ7F57xu8rNw                    flavor-of-india-issaquah   \n",
       "\n",
       "                               name  \\\n",
       "995       Fiddler's Inn Pub & Pizza   \n",
       "996    Nacho Mama’s Fry Bread Cafe’   \n",
       "997                  S/T Hooligan's   \n",
       "998  Menya Musashi Tsukemen & Ramen   \n",
       "999                 Flavor of India   \n",
       "\n",
       "                                             image_url  is_closed  \\\n",
       "995  https://s3-media3.fl.yelpcdn.com/bphoto/Ee3tn4...      False   \n",
       "996  https://s3-media1.fl.yelpcdn.com/bphoto/9ICQSW...      False   \n",
       "997  https://s3-media2.fl.yelpcdn.com/bphoto/vfFWEy...      False   \n",
       "998  https://s3-media1.fl.yelpcdn.com/bphoto/VFS-6C...      False   \n",
       "999  https://s3-media2.fl.yelpcdn.com/bphoto/bjHzYz...      False   \n",
       "\n",
       "                                                   url  review_count  \\\n",
       "995  https://www.yelp.com/biz/fiddlers-inn-pub-and-...           161   \n",
       "996  https://www.yelp.com/biz/nacho-mama-s-fry-brea...            17   \n",
       "997  https://www.yelp.com/biz/s-t-hooligans-seattle...           431   \n",
       "998  https://www.yelp.com/biz/menya-musashi-tsukeme...           570   \n",
       "999  https://www.yelp.com/biz/flavor-of-india-issaq...            25   \n",
       "\n",
       "                                            categories  rating  \\\n",
       "995  [{'alias': 'pubs', 'title': 'Pubs'}, {'alias':...     4.0   \n",
       "996  [{'alias': 'breakfast_brunch', 'title': 'Break...     5.0   \n",
       "997  [{'alias': 'cajun', 'title': 'Cajun/Creole'}, ...     4.5   \n",
       "998  [{'alias': 'ramen', 'title': 'Ramen'}, {'alias...     4.0   \n",
       "999  [{'alias': 'indpak', 'title': 'Indian'}, {'ali...     4.0   \n",
       "\n",
       "                                           coordinates        transactions  \\\n",
       "995  {'latitude': 47.6963958740234, 'longitude': -1...          [delivery]   \n",
       "996  {'latitude': 47.51866236481751, 'longitude': -...  [delivery, pickup]   \n",
       "997    {'latitude': 47.66023, 'longitude': -122.36568}  [delivery, pickup]   \n",
       "998    {'latitude': 47.61443, 'longitude': -122.32423}  [pickup, delivery]   \n",
       "999     {'latitude': 47.5435, 'longitude': -122.01664}  [delivery, pickup]   \n",
       "\n",
       "    price                                           location         phone  \\\n",
       "995    $$  {'address1': '9219 35th Ave NE', 'address2': '...  +12065250752   \n",
       "996   NaN  {'address1': '9418 Delridge Way S', 'address2'...  +12533291212   \n",
       "997    $$  {'address1': '4354 Leary Way NW', 'address2': ...  +12066594754   \n",
       "998    $$  {'address1': '1510 Belmont Ave', 'address2': '...  +12062574289   \n",
       "999   NaN  {'address1': '984 NE Park Dr', 'address2': '',...  +14253694334   \n",
       "\n",
       "      display_phone      distance  \n",
       "995  (206) 525-0752   8567.291262  \n",
       "996  (253) 329-1212  11970.301412  \n",
       "997  (206) 659-4754   4482.383222  \n",
       "998  (206) 257-4289   1498.765728  \n",
       "999  (425) 369-4334  25588.961885  "
      ]
     },
     "metadata": {},
     "output_type": "display_data"
    }
   ],
   "source": [
    "# load final results\n",
    "final_df = pd.read_json(JSON_FILE)\n",
    "display(final_df.head(), final_df.tail())"
   ]
  },
  {
   "cell_type": "code",
   "execution_count": 21,
   "id": "df335ea6-ff3f-457b-909a-c82b23eab24a",
   "metadata": {},
   "outputs": [
    {
     "data": {
      "text/plain": [
       "0"
      ]
     },
     "execution_count": 21,
     "metadata": {},
     "output_type": "execute_result"
    }
   ],
   "source": [
    "# check for duplicate ID's \n",
    "final_df.duplicated(subset='id').sum()"
   ]
  },
  {
   "cell_type": "markdown",
   "id": "d011f731-dba7-4760-a8f7-b0a741039b76",
   "metadata": {},
   "source": [
    "There are no duplicates"
   ]
  },
  {
   "cell_type": "code",
   "execution_count": 22,
   "id": "9535b88a-5311-446e-a4dc-5f24b0bcebc9",
   "metadata": {},
   "outputs": [],
   "source": [
    "# save the final results to a compressed csv\n",
    "final_df.to_csv('Data/final_results_seattle_vegetarian.csv', compression='gzip',index=False)"
   ]
  }
 ],
 "metadata": {
  "kernelspec": {
   "display_name": "Python 3 (ipykernel)",
   "language": "python",
   "name": "python3"
  },
  "language_info": {
   "codemirror_mode": {
    "name": "ipython",
    "version": 3
   },
   "file_extension": ".py",
   "mimetype": "text/x-python",
   "name": "python",
   "nbconvert_exporter": "python",
   "pygments_lexer": "ipython3",
   "version": "3.10.10"
  }
 },
 "nbformat": 4,
 "nbformat_minor": 5
}
